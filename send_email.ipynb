{
 "cells": [
  {
   "cell_type": "markdown",
   "metadata": {},
   "source": [
    "# Dianグループブリーフィング同報通信プログラム\n",
    "このプログラムはDianグループの実際の状況に応えましてミラクル洋（或いは張中洋）より造られたものである。\n",
    "何か問題にでもあったら、どうか気楽に私と連絡して下さい！\n",
    "本人のメールアドレス：mirakuruyoo@gmail.com"
   ]
  },
  {
   "cell_type": "code",
   "execution_count": 194,
   "metadata": {
    "collapsed": true
   },
   "outputs": [],
   "source": [
    "import os  \n",
    "import smtplib  \n",
    "import mimetypes  \n",
    "import pandas as pd\n",
    "import codecs\n",
    "import chardet\n",
    "import string\n",
    "import time\n",
    "from email.MIMEMultipart import MIMEMultipart  \n",
    "from email.MIMEBase import MIMEBase  \n",
    "from email.MIMEText import MIMEText  \n",
    "from email.MIMEAudio import MIMEAudio  \n",
    "from email.MIMEImage import MIMEImage  \n",
    "from email import encoders\n",
    "from email.utils import parseaddr, formataddr\n",
    "from email.header import Header\n",
    "from email.Encoders import encode_base64\n",
    "from email.utils import COMMASPACE\n",
    "\n",
    "########################################################################################\n",
    "##　この脚本を使用する前に以下の内容をどうかご記入すること：\n",
    "count=206             #本期简报的期数\n",
    "account_number=0   #这次发送简报最开始使用第几个邮箱(我是16)(从1开始)\n",
    "donated=0       #这次发送简报是有捐赠版(1)还是无捐赠版(0)\n",
    "tired=0       #いつか次のメールアドレスに交換するをコントロールする量\n",
    "##　もし本日このメールアドレスを使用したことがございませんとしたら，tiredを０のままにして頂戴\n",
    "##　でなければ、回数を５０で割る数字を記入してください\n",
    "########################################################################################"
   ]
  },
  {
   "cell_type": "code",
   "execution_count": 224,
   "metadata": {
    "collapsed": true
   },
   "outputs": [],
   "source": [
    "md = pd.read_excel(u'./index/mydutypart.xlsx',header=None)#test_mails\n",
    "emails = [x.encode('utf-8') for x in md[2] if pd.isnull(x)==False]\n",
    "we = pd.read_excel(u'./index/work_emails.xlsx')\n",
    "gmailUser = list(we[u'账号'])[account_number]\n",
    "gmailPassword = list(we[u'密码'])[account_number]"
   ]
  },
  {
   "cell_type": "code",
   "execution_count": 225,
   "metadata": {},
   "outputs": [
    {
     "name": "stdout",
     "output_type": "stream",
     "text": [
      "dian@hust.edu.cn Diannewsletter2017\n"
     ]
    }
   ],
   "source": [
    "print list(we[u'账号'])[account_number],list(we[u'密码'])[account_number]\n",
    "# print md[2]"
   ]
  },
  {
   "cell_type": "code",
   "execution_count": 226,
   "metadata": {
    "collapsed": true
   },
   "outputs": [],
   "source": [
    "if count%2==0:\n",
    "    filepathprefix = u\"./source/\"+str(count)+u'/无捐款/'\n",
    "else:\n",
    "    filepathprefix = u\"./source/\"+str(count)+'/'\n",
    "for fname in os.listdir(filepathprefix):\n",
    "    if os.path.splitext(fname)[1] == '.pdf':\n",
    "        pdf_name = fname\n",
    "    elif os.path.splitext(fname)[1] == '.txt':\n",
    "        txt_name = fname\n",
    "pdf_path,txt_path = filepathprefix+pdf_name,filepathprefix+txt_name\n",
    "subject = u\"Dian团队工作简报第\"+str(count)+u\"期\"\n",
    "\n",
    "with open(txt_path, 'rb') as fp:\n",
    "    file_data = fp.read()\n",
    "    result = chardet.detect(file_data)\n",
    "    content = file_data.decode(encoding=result['encoding'])"
   ]
  },
  {
   "cell_type": "code",
   "execution_count": 227,
   "metadata": {},
   "outputs": [
    {
     "name": "stdout",
     "output_type": "stream",
     "text": [
      "GB2312\n"
     ]
    }
   ],
   "source": [
    "print result['encoding']"
   ]
  },
  {
   "cell_type": "code",
   "execution_count": 232,
   "metadata": {
    "collapsed": true
   },
   "outputs": [],
   "source": [
    "def _format_addr(s):\n",
    "    name, addr = parseaddr(s)\n",
    "    return formataddr(( \\\n",
    "        Header(name, 'gb2312').encode(), \\\n",
    "        addr.encode('gb2312') if isinstance(addr, unicode) else addr))\n",
    " \n",
    "def prepmsg(subject, text, *attachmentFilePaths):\n",
    "    global msg\n",
    "    recipient = []  \n",
    "    # ルートコンテナをセットします\n",
    "    msg = MIMEMultipart()  \n",
    "    msg['From'] = _format_addr(u'Newsletter Dian <%s>' % gmailUser) \n",
    "    msg['To'] = COMMASPACE.join(recipient)\n",
    "    msg['Subject'] = Header(subject, 'gb2312').encode()  \n",
    "    msg.attach(MIMEText(content, 'plain', 'gb2312'))  \n",
    "    for attachmentFilePath in attachmentFilePaths:  \n",
    "        msg.attach(getAttachment(attachmentFilePath)) \n",
    "    \n",
    "def sendMail(other):   \n",
    "    global msg\n",
    "    global mailServer\n",
    "    recipient = []\n",
    "    msg['Bcc'] = COMMASPACE.join(other)\n",
    "    print '='*60,\"\\n現在では発信することを実行しているアカウントは：\",gmailUser\n",
    "    mailServer.sendmail(gmailUser, recipient+other, msg.as_string())  \n",
    "    print \"Sent email to \", other\n",
    "   \n",
    "def getAttachment(attachmentFilePath):  \n",
    "    contentType, encoding = mimetypes.guess_type(attachmentFilePath)  \n",
    "    if contentType is None or encoding is not None:  \n",
    "        contentType = 'application/octet-stream' \n",
    "    mainType, subType = contentType.split('/', 1)  \n",
    "    file = open(attachmentFilePath, 'rb')  \n",
    "   \n",
    "    if mainType == 'text':  \n",
    "        attachment = MIMEText(file.read())  \n",
    "    elif mainType == 'message':  \n",
    "        attachment = email.message_from_file(file)  \n",
    "    elif mainType == 'image':  \n",
    "        attachment = MIMEImage(file.read(),_subType=subType)  \n",
    "    elif mainType == 'audio':  \n",
    "        attachment = MIMEAudio(file.read(),_subType=subType)  \n",
    "    else:  \n",
    "        attachment = MIMEBase(mainType, subType)  \n",
    "    attachment.set_payload(file.read())  \n",
    "    encode_base64(attachment)    \n",
    "    file.close()  \n",
    "\n",
    "    ## 添付ファイルのヘッダをセットします\n",
    "    attachment.add_header('Content-Disposition', 'attachment',   filename=os.path.basename(attachmentFilePath))  \n",
    "    return attachment  \n",
    "\n",
    "\n",
    "def OneUsrSendMail():\n",
    "    global tired\n",
    "    global mailServer\n",
    "    start = time.time()\n",
    "    allsent=0\n",
    "    rested=len(emails)\n",
    "    mailServer = smtplib.SMTP('mail.hust.edu.cn',25)\n",
    "    mailServer.ehlo()  \n",
    "    mailServer.starttls()  \n",
    "    mailServer.ehlo()  \n",
    "    mailServer.login(gmailUser, gmailPassword)  \n",
    "    prepmsg(subject, content, pdf_path)\n",
    "    while(rested!=0):\n",
    "        if(rested>=50):\n",
    "            sendMail(emails[allsent:(allsent+50)])\n",
    "            allsent=allsent+50\n",
    "            print (\"この 50 通のメールはこのメールアドレスより出します：%s ，今既に %d 通のメールを送っています，残りの部分は直ぐに出しますので，少々お待ちください...\\n\" % (gmailUser.encode('UTF-8'),allsent)).decode('UTF-8')\n",
    "            rested=rested-50\n",
    "        else:\n",
    "            sendMail(emails[allsent:])\n",
    "            allsent=len(emails)\n",
    "            print (\"この %d 通のメールはこのメールアドレスより出します：%s ，もはや全部の %d 通のメールを送りましたので，ご利用ありがとうございます:)\" % ((allsent%50),gmailUser.encode('UTF-8'),allsent)).decode('UTF-8')\n",
    "            mailServer.close()  \n",
    "            rested=0\n",
    "        print '='*60\n",
    "        if(tired>=50):\n",
    "            resetMail()\n",
    "        else:\n",
    "            tired=tired+1\n",
    "    end = time.time()\n",
    "    print \"\\nこの度、本プログラムの実行時間は合わせて： \",end-start,\" 秒です。\\n\",'='*60\n",
    "\n",
    "def resetMail():\n",
    "    global account_number\n",
    "    global gmailUser\n",
    "    global gmailPassword\n",
    "    global tired\n",
    "    global mailServer\n",
    "    account_number=account_number+1\n",
    "    gmailUser = list(we[u'账号'])[account_number]\n",
    "    gmailPassword = list(we[u'密码'])[account_number]\n",
    "    mailServer = smtplib.SMTP('mail.hust.edu.cn',25)#'smtp.gmail.com'　'smtp.qq.com' 587\n",
    "    mailServer.ehlo()  \n",
    "    mailServer.starttls()  \n",
    "    mailServer.ehlo()  \n",
    "    mailServer.login(gmailUser, gmailPassword)  \n",
    "    tired=0"
   ]
  },
  {
   "cell_type": "code",
   "execution_count": 203,
   "metadata": {},
   "outputs": [
    {
     "name": "stdout",
     "output_type": "stream",
     "text": [
      "現在では発信することを実行しているアカウントは： dian@hust.edu.cn\n",
      "Sent email to  ['786671043@qq.com', 'dengpanstudio@outlook.com']\n",
      "この 2 通のメールはこのメールアドレスより出します：dian@hust.edu.cn ，もはや全部の 2 通のメールを送りましたので，ご利用ありがとうございます:)\n"
     ]
    }
   ],
   "source": [
    "emails = ['786671043@qq.com']#,'dengpanstudio@outlook.com']\n",
    "OneUsrSendMail()\n",
    "tired=0\n",
    "emails = [x.encode('utf-8') for x in md[2]]"
   ]
  },
  {
   "cell_type": "code",
   "execution_count": 233,
   "metadata": {
    "scrolled": true
   },
   "outputs": [
    {
     "name": "stdout",
     "output_type": "stream",
     "text": [
      "============================================================ \n",
      "現在では発信することを実行しているアカウントは： dian@hust.edu.cn\n",
      "Sent email to  ['530180782@qq.com', '243678025@qq.com', '398018489@qq.com', '595064131@qq.com', '362483245@qq.com', '285340035@qq.com', '448280012@qq.com', '452779373@qq.com', '1043553227@qq.com', '554003572@qq.com', '1158658706@qq.com', '535603525@qq.com', '327526091@qq.com', '491163631@qq.com', '404127680@qq.com', '610363953@qq.com', '530413323@qq.com', '976581566@qq.com', '645366312@qq.com', '252297147@qq.com', '958715182@qq.com', '421184840@qq.com', '276140133@qq.com', '295642572@qq.com', '657227464@qq.com', '402236479@qq.com', '304470253@qq.com', '954881719@qq.com', '584720149@qq.com', '1113964742@qq.com', '541939857@qq.com', '463757313@qq.com', '634335492@qq.com', '593368912@qq.com', '849847679@qq.com', '672900644@qq.com', '779569651@qq.com', '406242205@qq.com', '735055817@qq.com', '836633828@qq.com', '476706564@qq.com', '625211428@qq.com', '172918923@qq.com', '359163787@qq.com', '119023118@qq.com', '292010344@qq.com', '516086546@qq.com', '11302299@qq.com', '695297016@qq.com', '616103992@qq.com']\n",
      "この 50 通のメールはこのメールアドレスより出します：dian@hust.edu.cn ，今既に 50 通のメールを送っています，残りの部分は直ぐに出しますので，少々お待ちください...\n",
      "\n",
      "============================================================\n",
      "============================================================ \n",
      "現在では発信することを実行しているアカウントは： dian@hust.edu.cn\n",
      "Sent email to  ['523512190@qq.com', '307323273@qq.com', '474945849@qq.com', '1013934207@qq.com', '847449402@qq.com', '119024552@qq.com', '1016946307@qq.com', '851733175@qq.com', '627254325@qq.com', '454809244@qq.com', '927330592@qq.com', '729263464@qq.com', '812193944@qq.com', '303462539@qq.com', '350305755@qq.com', '609496763@qq.com', '40273158@qq.com', '977674774@qq.com', '515161590@qq.com', '495032680@qq.com', '414684501@qq.com', '443733564@qq.com', '867577874@qq.com', '343534820@qq.com', '497210009@qq.com', '466975772@qq.com', '465592934@qq.com', '592870174@qq.com', '362033506@qq.com', '616939853@qq.com', '364667312@qq.com', '529724371@qq.com', '515471801@qq.com', '441450595@qq.com', '444360506@qq.com', 'xingfa@xingfayeya.com', 'cjwlj@21cn.com', 'toocle01@netsun.com', 'chuangling@chuangling.net', 'zjykrc@163.com', 'hahdjx@163.com', '5663@sohu.com', 'chenql_008@163.com', 'tsmoql@alibaba.com.cn', 'jx@lc-jxgg.com', 'wxweijie@163.com', 'jinganmotor@jinganmotor.cn', 'cnjiangtai@126.com', 'ankson@126.com', 'newsinda@yahoo.com']\n",
      "この 50 通のメールはこのメールアドレスより出します：dian@hust.edu.cn ，今既に 100 通のメールを送っています，残りの部分は直ぐに出しますので，少々お待ちください...\n",
      "\n",
      "============================================================\n",
      "============================================================ \n",
      "現在では発信することを実行しているアカウントは： dian@hust.edu.cn\n",
      "Sent email to  ['jwf110@hotmail.com', 'jsob@jsob.cn', 'shfmsr@hotmail.com', 'LYC@hzlasiji.com', 'yawei@xinyajx.com', 'zhoulequn@alibaba.com.cn', 'shandongxinghuo@163.com', 'dc571@163.com', 'hongyi211@sina.com', 'bzxianfeng@163.com', 'ykwbq@163.com', 'hnzz_hgjx110@163.com', 'zy@zhenasia.com', 'cgzb110@163.com', 'manager@hongxinqd.com', 'xsgl2010@yahoo.com.cn', 'chuangyizdh@163.com', 'dsk@cngxj.com', 'meiyingmachine@163.com', 'cilijichuang@sina.com', 'sdTS7559@yahoo.com.cn', 'info@qdhuari.com.cn', 'yh123@vip.163.com', 'hrc@china.com', 'web@cn-pengwei.com', 'ycdy28@163.com', 'ysfh@ysfh.com', 'zhengdongsheng1970@126.com', 'yarkesong@vip.163.com', 'fhjxsbzzc@126.com', 'jingchuang@gdjingchuang.com', 'toocle01@netsun.com', 'chuangling@chuangling.net', 'zjykrc@163.com', 'hahdjx@163.com', '5663@sohu.com', 'chenql_008@163.com', 'tsmoql@alibaba.com.cn', 'jx@lc-jxgg.com', 'wxweijie@163.com', 'jinganmotor@jinganmotor.cn', 'cnjiangtai@126.com', 'ankson@126.com', 'newsinda@yahoo.com', 'jwf110@hotmail.com', 'jsob@jsob.cn', 'shfmsr@hotmail.com', 'LYC@hzlasiji.com', 'yawei@xinyajx.com', 'zhoulequn@alibaba.com.cn']\n",
      "この 50 通のメールはこのメールアドレスより出します：dian@hust.edu.cn ，今既に 150 通のメールを送っています，残りの部分は直ぐに出しますので，少々お待ちください...\n",
      "\n",
      "============================================================\n",
      "============================================================ \n",
      "現在では発信することを実行しているアカウントは： dian@hust.edu.cn\n",
      "Sent email to  ['shandongxinghuo@163.com', 'dc571@163.com', 'hongyi211@sina.com', 'bzxianfeng@163.com', 'ykwbq@163.com', 'hnzz_hgjx110@163.com', 'zy@zhenasia.com', 'cgzb110@163.com', 'manager@hongxinqd.com', 'xsgl2010@yahoo.com.cn', 'chuangyizdh@163.com', 'dsk@cngxj.com', 'meiyingmachine@163.com', 'cilijichuang@sina.com', 'sdTS7559@yahoo.com.cn', 'info@qdhuari.com.cn', 'yh123@vip.163.com', 'hrc@china.com', 'web@cn-pengwei.com', 'ycdy28@163.com', 'ysfh@ysfh.com', 'zhengdongsheng1970@126.com', 'yarkesong@vip.163.com', 'fhjxsbzzc@126.com', 'jingchuang@gdjingchuang.com', 'gyby5911@alibaba.com.cn', 'dgjs0769@126.com', 'hr@bmschina.com', 'zhaomingwqw@163.com', 'ruihongfair@163.com', 'bzfangzheng@126.com', 'zsstssjxzzyxgs@3158.com', 'sdzgjx@126.com', 'sale@xinhuajg.com', '222@126.com', 'ivanoowin@hotmail.com', 'chinawutong@126.com', 'info@hbzrzz.cn', 'xyyunshan@163.com', 'saw@cnsaw.com', 'zoulin68@hotmail.com', 'cdkj@cj-elec.com', 'hellodongchen@hotmail.com', 'chinawutong@126.com', 'yunyuan@163.com', 'ourgameren@yahoo.com.cn', 'gsw888@163.com', 'jshsjx@jshs.com.cn', 'chinawutong@126.com', 'cdsongli@126.com']\n",
      "この 50 通のメールはこのメールアドレスより出します：dian@hust.edu.cn ，今既に 200 通のメールを送っています，残りの部分は直ぐに出しますので，少々お待ちください...\n",
      "\n",
      "============================================================\n",
      "============================================================ \n",
      "現在では発信することを実行しているアカウントは： dian@hust.edu.cn\n",
      "Sent email to  ['zbshenchang@163.com', 'zzjianxing@126.com', 'tjzf@tjzf.com', '4151447@126.com', 'xuxia928@163.com', 'wangqianjuan@163.com', 'qsyj@jjqsyj.cn', 'sanjiangjx@alibaba.com.cn', 'mr.zhang.yao@163.com', 'xxtljx@126.com', 'mxjm@mxjm.com', 'bbxindas@sohu.com.cc', 'lvjuntx@qszt.net', 'caoyang@pm-china.com', 'wcdb@wcdb.com.cn', 'jh@xichenji.com', 'jcmaxgride@21cn.com', 'sale@zjgjcjx.com', 'wangdz01@126.com', 'xwxs315@163.com', 'zyj8888@163.com', 'hyshelf_ok@126.com', 'xiongxin@autobrakes-china.com', '948882566@QQ.COM', 'ybopackage_mei@163.com', 'hengxing@188.com', 'chinawutong@126.com', 'kaihuajx@yahoo.cn', 'yf@yfjxzz.cn', '13816589881@126.com', 'ycx358@sina.com', 'hddgsb@hddgsb.com', 'yue248ax@126.com', '8930377@cpp114.net', 'wailaan@gz-wailaan.com', 'sznayee@shc021.com', 'bpmouldgs@yahoo.cn', '9skybug@163.com', 'andrui110@sina.com', 'zn@wjlljx.com', 'yyuf118@163.com', 'jylshx@163.com', 'runze66@126.com', 'cass@zjcass.com', 'xiao@zldjc.com', 'tianyi0205@163.com', 'yanghaifeng8245@yahoo.com.cn', 'xjx978@126.com', 'nbdfmy@163.com', '1034953236@qq.com']\n",
      "この 50 通のメールはこのメールアドレスより出します：dian@hust.edu.cn ，今既に 250 通のメールを送っています，残りの部分は直ぐに出しますので，少々お待ちください...\n",
      "\n",
      "============================================================\n",
      "============================================================ \n",
      "現在では発信することを実行しているアカウントは： dian@hust.edu.cn\n",
      "Sent email to  ['YFRC123@TOM.COM', 'web@txtcjsj.com', 'hebeizuanji@163.com', 'root@xsp2.com', '13910101728@139.com', 'hzchuangqili@163.com', 'lqhlq_001@163.com', 'dy@sy-v.com', 'root@xsp2.com', 'jsltszd@163.com', 'newsinda@yahoo.com', 'tzcldq@alibaba.com.cn', 'xwdq400@126.com', 'zhushaohua806@sohu.com', 'zcyin@163.com', 'SUNVAN@ADVANTECH.COM', 'hongqigroup@126.com', 'lyshjttqm@yahoo.cn', 'ystongtai@126.com', 'sales@yazhoupumps.com', '181888@gmail.com', 'js@zkjq.cn', 'www.310487604@qq.com', 'server@cmt365.com', 'yangqing_0221@126.com', 'xianglin912@sina.com', 'sales@cnartil.com', 'xf@xf86.com', 'lzh666777@sina.com', 'abolan@163.net', 'jzssysjzzyxgs@3158.com', 'sales@wiremesh-machine.cn', '1305480186@qq.com', 'lc@longchangjx.com', 'cycle168@yahoo.cn', '275464647@qq.com', 'info@btc888.com', 'webmaster@sh-fhdp.com', 'love2230050@hotmail.com', 'server@jinxingjd.com', 'wadb258@sohu.com', 'admin@xgo.com.cn', 'zjgyanhang@alibaba.com', 'news@phoenixtv.com', 'web@nilongbang.com', 'pxx7966198@hotmail.com', 'zjxyq@sohu.com', 'younatcom@163.com', 'htzk@vip.163.com', 'danlianxingyun@sina.com']\n",
      "この 50 通のメールはこのメールアドレスより出します：dian@hust.edu.cn ，今既に 300 通のメールを送っています，残りの部分は直ぐに出しますので，少々お待ちください...\n",
      "\n",
      "============================================================\n",
      "============================================================ \n",
      "現在では発信することを実行しているアカウントは： dian@hust.edu.cn\n",
      "Sent email to  ['service@chap-china.com', 'czktmachine@alibaba.com.cn', 'fhhaiwei@163.com', 'cqx@hzjdw.com', 'webmaster@hfmachine.com.cn', 'mfjx@21cn.com', 'baihai88888@126.com', 'cf@cfcopper.com', 'flowexpo@yahoo.cn', 'mxexpo@163.com', 'lcl@8767.com', 'jjiangshan@21cn.com', 'info@czwanding.com', 'jycdjx@163.com', 'wswj@163.com', 'info@tiantianshuang.com', 'admin@jszptool.com', 'phbaixing@cpp114.com', 'kc@zjgkc.com.cn', 'zjxltz@mail.tzptt.zj.cn', 'ssf8303@163.com', 'Lqt761211@yahoo.com.cn', 'wangkai_flying@163.com', 'cs-nina@hotmai.com', 'info@szdianlu.cn', 'dacheng118@yahoo.com.cn', 'wxdyjx@sina.cn', 'tangda2000@zj.com', 'baoxiuyu@yahoo.cn', 'huarian@zshtlg.com', 'tian_e@163.com', 'zjxljx@126.com', 'mandywang@zqzbearing.cn', 'yujingoptical@vip.sin', 'mshx@mshx.cn', 'hbjyzy@alibaba.com.cn', 'lana@k88.com.cn', '523job@163.com', 'shaolin@gyshaolin.com', '87431626@163.com', 'cz_xygg@126.com', 'webmaster@qdwoodworking.com', 'hnqxyt@163.com', 'lxg@beitetools.com', 'zgs588@126.com', 'lc@wxlingchang.com', 'ft89789166@yahoo.com.cn', 'tiaosuji@mail.wz.zj.cn', 'tangqiuya@126.com', 'wxbwhr@sina.com']\n",
      "この 50 通のメールはこのメールアドレスより出します：dian@hust.edu.cn ，今既に 350 通のメールを送っています，残りの部分は直ぐに出しますので，少々お待ちください...\n",
      "\n",
      "============================================================\n",
      "============================================================ \n",
      "現在では発信することを実行しているアカウントは： dian@hust.edu.cn\n"
     ]
    },
    {
     "name": "stdout",
     "output_type": "stream",
     "text": [
      "Sent email to  ['heen_001@sina.com', 'linronghy@163.com', '1071263714@qq.com', 'webmaster@baidajob.com', 'sunchangqing1978@126.com', 'sheng1601@sohu.com', 'hengbingshiye@163.com', '4861312@sohu.com', '787776139@qq.com', 'ahchangjiangjc@alibaba.com.cn', 'taipu@nbtaipu.com', 'sznmx2008@tom.com', 'co000@000.com', 'jxgl@yahoo.cn', 'jdzjy@alibaba.com.cn', 'weianwl@163.com', 'bangxinweiye@163.com', 'mingchun168888@163.com', 'geli520@163.com', 'caiyin@mail.wzptt.zj.cn', 'NO@NO.COM', 'Hangtian@ahhtmt.com', 'wuyouxiang@111.com', 'cydisplay@163.com', 'tyjx315@126.com', 'jjfd@163.com', '7312158@163.com', 'wangzhi12@hotmail.com', 'hzqxfj@126.com', 'chinaexp@ccpit.org', 'key1993@tom.com', 'yutai88@163.com', 'hessp844@qq.com', 'linlvg@gxjx.cn', 'sccs888@126.com', 'gracefulxiao@163.com', 'bjxyti@126.com', 'shzheng@163.com', 'shxiangxiu@yahoo.com.cn', 'jinhuachilun@163.com', 'iecadmin@smesd.gov', 'atvseller@hotmail.com', 'baoxiuyu@yahoo.cn', 'qiu3443@yahoo.com.cn', '1111@sup-tek.com', 'info@zzdzjx.com', 'newskill666@163.com', 'liuwzhd@21cn.com', 'lshwzc@alibaba.com.cn', 'chinawutong@126.com']\n",
      "この 50 通のメールはこのメールアドレスより出します：dian@hust.edu.cn ，今既に 400 通のメールを送っています，残りの部分は直ぐに出しますので，少々お待ちください...\n",
      "\n",
      "============================================================\n",
      "============================================================ \n",
      "現在では発信することを実行しているアカウントは： dian@hust.edu.cn\n",
      "Sent email to  ['zibwcui@sina.com', 'tanhua977@sohu.com', 'nianfashaiwang@163.com', 'tz_cxh@sohu.com', '2008103102@123.com', 'whcx258@sohu.com', 'wzlmv67997728@126.com', 'xin.fa168@163.com', 'baoxiuyu@yahoo.cn', 'wcf@xinda.js.cn', 'hongfu@wjhongfu.cn', 'xiejinhua29@yahoo.com.cn', 'hzsongchengmachine@126.com', 'zhangqiaoqiao0731@gmail.com', 'cuioyou@163.com', 'hbt@hbt.cn', 'kaixuankite@sohu.com', 'beigongpump@qq.com', 'juwp@wpdj.com', 'lcshxxgzzyxgs@3158.com', 'szxg@sz-xingao.com', 'bt_longhua@sina.com', 'lianyou@13566170918.com', 'qxb555@vip.sohu.com', 'root@xsp2.com', 'cileeautoparts@163.com', '108@china114bst.net', 'huaheng@huaheng-piston.com', 'fjsly@publ.qz.fj.cn', 'deying@deyingmotor.com', 'ko5186@126.com', 'jinniutx@njjn.com', 'lirenfushi@126.com', 'NO@NO.com', 'huada88@sohu.com', 'yaxinus@hotmail.com', 'admin@jsgdjc.com', 'zcjd@163.com', 'sales@jshaifeng.com', 'waitting16@163.com', 'info@haixia.cc', 'jetski777@hotmail.com', 'bode@tsxidi.com', 'lilujia@vip.sina.com', 'trade@yongshengwiremesh.com', 'qianzhen0523@sina.com', 'info@guang-ming.net', 'talent@kailirazor.com', 'management@3dmould.com', 'baoli@baoli.cn']\n",
      "この 50 通のメールはこのメールアドレスより出します：dian@hust.edu.cn ，今既に 450 通のメールを送っています，残りの部分は直ぐに出しますので，少々お待ちください...\n",
      "\n",
      "============================================================\n",
      "============================================================ \n",
      "現在では発信することを実行しているアカウントは： dian@hust.edu.cn\n",
      "Sent email to  ['czslyxgs@163.com', 'yl@yl-fastener.com', '123@163.com', 'jhjx@jhjx.com', 'zx@zxshaiwang.com', 'greenyh@sohu.com', 'xqxyg@sina.com.cn', 'zszhong.yang@163.com', 'shjjysjxzzyxgs@3158.com', 'qiuxiaofeng8001@sina.com', 'ahruiling@sohu.com', 'tj_fcjx@sohu.com', 'jdchain@jdchain.com', 'yt18@cnytjj.com', 'sl@cnjczz.com', 'haitai08@hotmail.com', 'wangz@furielec.com', 'shgoubo@163.com', 'sd@sdndt.com', 'seamade@hx-motor.com', 'zhangpin9@163.com', 'info@guoleng.com', 'fk6867188@163.com', 'rm@rm518.com', 'phdanni@163.com', 'zpm6480@mail.hz.zj.cn', 'doorsales@hotai.cc', 'zds-mach', 'knrdsb@126.com', 'hbs9887@163.com']\n",
      "この 30 通のメールはこのメールアドレスより出します：dian@hust.edu.cn ，もはや全部の 480 通のメールを送りましたので，ご利用ありがとうございます:)\n",
      "============================================================\n",
      "\n",
      "この度、合わせて本プログラムの実行時間は：  17.5973539352  秒です。\n",
      "============================================================\n"
     ]
    }
   ],
   "source": [
    "OneUsrSendMail()"
   ]
  },
  {
   "cell_type": "code",
   "execution_count": 223,
   "metadata": {},
   "outputs": [
    {
     "name": "stdout",
     "output_type": "stream",
     "text": [
      "0.00153803825378\n"
     ]
    }
   ],
   "source": [
    "import time\n",
    "start = time.time()\n",
    "for i in range(10000):\n",
    "    a=1\n",
    "end = time.time()\n",
    "print end-start"
   ]
  },
  {
   "cell_type": "code",
   "execution_count": null,
   "metadata": {
    "collapsed": true
   },
   "outputs": [],
   "source": []
  }
 ],
 "metadata": {
  "kernelspec": {
   "display_name": "Python 2",
   "language": "python",
   "name": "python2"
  },
  "language_info": {
   "codemirror_mode": {
    "name": "ipython",
    "version": 2
   },
   "file_extension": ".py",
   "mimetype": "text/x-python",
   "name": "python",
   "nbconvert_exporter": "python",
   "pygments_lexer": "ipython2",
   "version": "2.7.13"
  }
 },
 "nbformat": 4,
 "nbformat_minor": 2
}
